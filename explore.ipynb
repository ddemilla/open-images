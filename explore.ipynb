{
 "cells": [
  {
   "cell_type": "code",
   "execution_count": 1,
   "metadata": {
    "collapsed": true
   },
   "outputs": [],
   "source": [
    "import pandas as pd\n",
    "import matplotlib.pyplot as plt\n",
    "%matplotlib inline"
   ]
  },
  {
   "cell_type": "code",
   "execution_count": 16,
   "metadata": {},
   "outputs": [
    {
     "name": "stdout",
     "output_type": "stream",
     "text": [
      "Number of labels:  14610229\n",
      "Number of images:  1743042\n"
     ]
    },
    {
     "data": {
      "text/html": [
       "<div>\n",
       "<style scoped>\n",
       "    .dataframe tbody tr th:only-of-type {\n",
       "        vertical-align: middle;\n",
       "    }\n",
       "\n",
       "    .dataframe tbody tr th {\n",
       "        vertical-align: top;\n",
       "    }\n",
       "\n",
       "    .dataframe thead th {\n",
       "        text-align: right;\n",
       "    }\n",
       "</style>\n",
       "<table border=\"1\" class=\"dataframe\">\n",
       "  <thead>\n",
       "    <tr style=\"text-align: right;\">\n",
       "      <th></th>\n",
       "      <th>ImageID</th>\n",
       "      <th>Source</th>\n",
       "      <th>LabelName</th>\n",
       "      <th>Confidence</th>\n",
       "      <th>XMin</th>\n",
       "      <th>XMax</th>\n",
       "      <th>YMin</th>\n",
       "      <th>YMax</th>\n",
       "      <th>IsOccluded</th>\n",
       "      <th>IsTruncated</th>\n",
       "      <th>IsGroupOf</th>\n",
       "      <th>IsDepiction</th>\n",
       "      <th>IsInside</th>\n",
       "    </tr>\n",
       "  </thead>\n",
       "  <tbody>\n",
       "    <tr>\n",
       "      <th>0</th>\n",
       "      <td>000002b66c9c498e</td>\n",
       "      <td>xclick</td>\n",
       "      <td>/m/01g317</td>\n",
       "      <td>1</td>\n",
       "      <td>0.012500</td>\n",
       "      <td>0.195312</td>\n",
       "      <td>0.148438</td>\n",
       "      <td>0.587500</td>\n",
       "      <td>0</td>\n",
       "      <td>1</td>\n",
       "      <td>0</td>\n",
       "      <td>0</td>\n",
       "      <td>0</td>\n",
       "    </tr>\n",
       "    <tr>\n",
       "      <th>1</th>\n",
       "      <td>000002b66c9c498e</td>\n",
       "      <td>xclick</td>\n",
       "      <td>/m/01g317</td>\n",
       "      <td>1</td>\n",
       "      <td>0.025000</td>\n",
       "      <td>0.276563</td>\n",
       "      <td>0.714063</td>\n",
       "      <td>0.948438</td>\n",
       "      <td>0</td>\n",
       "      <td>1</td>\n",
       "      <td>0</td>\n",
       "      <td>0</td>\n",
       "      <td>0</td>\n",
       "    </tr>\n",
       "    <tr>\n",
       "      <th>2</th>\n",
       "      <td>000002b66c9c498e</td>\n",
       "      <td>xclick</td>\n",
       "      <td>/m/01g317</td>\n",
       "      <td>1</td>\n",
       "      <td>0.151562</td>\n",
       "      <td>0.310937</td>\n",
       "      <td>0.198437</td>\n",
       "      <td>0.590625</td>\n",
       "      <td>1</td>\n",
       "      <td>0</td>\n",
       "      <td>0</td>\n",
       "      <td>0</td>\n",
       "      <td>0</td>\n",
       "    </tr>\n",
       "    <tr>\n",
       "      <th>3</th>\n",
       "      <td>000002b66c9c498e</td>\n",
       "      <td>xclick</td>\n",
       "      <td>/m/01g317</td>\n",
       "      <td>1</td>\n",
       "      <td>0.256250</td>\n",
       "      <td>0.429688</td>\n",
       "      <td>0.651563</td>\n",
       "      <td>0.925000</td>\n",
       "      <td>1</td>\n",
       "      <td>0</td>\n",
       "      <td>0</td>\n",
       "      <td>0</td>\n",
       "      <td>0</td>\n",
       "    </tr>\n",
       "    <tr>\n",
       "      <th>4</th>\n",
       "      <td>000002b66c9c498e</td>\n",
       "      <td>xclick</td>\n",
       "      <td>/m/01g317</td>\n",
       "      <td>1</td>\n",
       "      <td>0.257812</td>\n",
       "      <td>0.346875</td>\n",
       "      <td>0.235938</td>\n",
       "      <td>0.385938</td>\n",
       "      <td>1</td>\n",
       "      <td>0</td>\n",
       "      <td>0</td>\n",
       "      <td>0</td>\n",
       "      <td>0</td>\n",
       "    </tr>\n",
       "  </tbody>\n",
       "</table>\n",
       "</div>"
      ],
      "text/plain": [
       "            ImageID  Source  LabelName  Confidence      XMin      XMax  \\\n",
       "0  000002b66c9c498e  xclick  /m/01g317           1  0.012500  0.195312   \n",
       "1  000002b66c9c498e  xclick  /m/01g317           1  0.025000  0.276563   \n",
       "2  000002b66c9c498e  xclick  /m/01g317           1  0.151562  0.310937   \n",
       "3  000002b66c9c498e  xclick  /m/01g317           1  0.256250  0.429688   \n",
       "4  000002b66c9c498e  xclick  /m/01g317           1  0.257812  0.346875   \n",
       "\n",
       "       YMin      YMax  IsOccluded  IsTruncated  IsGroupOf  IsDepiction  \\\n",
       "0  0.148438  0.587500           0            1          0            0   \n",
       "1  0.714063  0.948438           0            1          0            0   \n",
       "2  0.198437  0.590625           1            0          0            0   \n",
       "3  0.651563  0.925000           1            0          0            0   \n",
       "4  0.235938  0.385938           1            0          0            0   \n",
       "\n",
       "   IsInside  \n",
       "0         0  \n",
       "1         0  \n",
       "2         0  \n",
       "3         0  \n",
       "4         0  "
      ]
     },
     "execution_count": 16,
     "metadata": {},
     "output_type": "execute_result"
    }
   ],
   "source": [
    "csv_dir = \"/hdd/open-images/csvs\"\n",
    "train_csv = pd.read_csv(f\"{csv_dir}/train-annotations-bbox.csv\")\n",
    "print(\"Number of labels: \", len(train_csv))\n",
    "print(\"Number of images: \", train_csv[\"ImageID\"].nunique())\n",
    "train_csv.head()"
   ]
  },
  {
   "cell_type": "code",
   "execution_count": 3,
   "metadata": {},
   "outputs": [
    {
     "name": "stdout",
     "output_type": "stream",
     "text": [
      "Min label count:  4\n",
      "Max label count:  1438128\n",
      "Number of classes:  599\n",
      "Number of classes with at least 50 examples:  574\n"
     ]
    }
   ],
   "source": [
    "label_counts = train_csv[\"LabelName\"].value_counts()\n",
    "print(\"Min label count: \", min(label_counts))\n",
    "print(\"Max label count: \", max(label_counts))\n",
    "print(\"Number of classes: \", len(label_counts))\n",
    "num_greater_than_50 = len(label_counts[label_counts >= 50])\n",
    "print(\"Number of classes with at least 50 examples: \", num_greater_than_50)"
   ]
  },
  {
   "cell_type": "code",
   "execution_count": 9,
   "metadata": {},
   "outputs": [
    {
     "name": "stdout",
     "output_type": "stream",
     "text": [
      "xclick       13050532\n",
      "activemil     1559697\n",
      "Name: Source, dtype: int64\n",
      "1    14610229\n",
      "Name: Confidence, dtype: int64\n"
     ]
    }
   ],
   "source": [
    "print(train_csv[\"Source\"].value_counts())\n",
    "print(train_csv[\"Confidence\"].value_counts())"
   ]
  },
  {
   "cell_type": "code",
   "execution_count": 7,
   "metadata": {},
   "outputs": [
    {
     "name": "stdout",
     "output_type": "stream",
     "text": [
      "Num greater than 100:  3600\n",
      "Percent less than 100:  0.9979346452925403\n",
      "Percent less than 20:  0.9055851780966838\n",
      "count    1.743042e+06\n",
      "mean     8.382029e+00\n",
      "std      1.245305e+01\n",
      "min      1.000000e+00\n",
      "25%      2.000000e+00\n",
      "50%      4.000000e+00\n",
      "75%      1.000000e+01\n",
      "max      7.450000e+02\n",
      "Name: ImageID, dtype: float64\n"
     ]
    },
    {
     "data": {
      "text/plain": [
       "(array([1333890.,  244583.,   84597.,   36811.,   16546.,   10189.,\n",
       "           5829.,    3390.,    2068.,    1435.]),\n",
       " array([ 1. , 10.8, 20.6, 30.4, 40.2, 50. , 59.8, 69.6, 79.4, 89.2, 99. ]),\n",
       " <a list of 10 Patch objects>)"
      ]
     },
     "execution_count": 7,
     "metadata": {},
     "output_type": "execute_result"
    },
    {
     "data": {
      "image/png": "[encoded data removed]",
      "text/plain": [
       "<matplotlib.figure.Figure at 0x7fabce1505f8>"
      ]
     },
     "metadata": {},
     "output_type": "display_data"
    }
   ],
   "source": [
    "num_labels_per_image_counts = train_csv.ImageID.value_counts()\n",
    "num_greater_than_100 = len(num_labels_per_image_counts[num_labels_per_image_counts > 100])\n",
    "print(\"Num greater than 100: \",num_greater_than_100)\n",
    "percent_less_than_100 = 1 - num_greater_than_100 / len(num_labels_per_image_counts)\n",
    "print(\"Percent less than 100: \",percent_less_than_100)\n",
    "percent_less_than_20 = len(num_labels_per_image_counts[num_labels_per_image_counts <= 20]) / len(num_labels_per_image_counts)\n",
    "print(\"Percent less than 20: \", percent_less_than_20)\n",
    "print(num_labels_per_image_counts.describe())\n",
    "plt.hist(num_labels_per_image_counts[num_labels_per_image_counts < 100])"
   ]
  },
  {
   "cell_type": "code",
   "execution_count": 10,
   "metadata": {},
   "outputs": [
    {
     "name": "stdout",
     "output_type": "stream",
     "text": [
      "IsTruncated\n",
      " 0    10922480\n",
      " 1     3665878\n",
      "-1       21871\n",
      "Name: IsTruncated, dtype: int64\n",
      "IsOccluded\n",
      " 1    9651132\n",
      " 0    4937226\n",
      "-1      21871\n",
      "Name: IsOccluded, dtype: int64\n",
      "IsTruncated\n",
      " 0    10922480\n",
      " 1     3665878\n",
      "-1       21871\n",
      "Name: IsTruncated, dtype: int64\n",
      "IsGroupOf\n",
      " 0    13713801\n",
      " 1      874557\n",
      "-1       21871\n",
      "Name: IsGroupOf, dtype: int64\n",
      "IsDepiction\n",
      " 0    13791999\n",
      " 1      796359\n",
      "-1       21871\n",
      "Name: IsDepiction, dtype: int64\n",
      "IsInside\n",
      " 0    14552771\n",
      " 1       35587\n",
      "-1       21871\n",
      "Name: IsInside, dtype: int64\n"
     ]
    }
   ],
   "source": [
    "image_detail_cols = [\"IsTruncated\", \"IsOccluded\", \"IsTruncated\", \"IsGroupOf\", \"IsDepiction\", \"IsInside\"]\n",
    "for col in image_detail_cols:\n",
    "    print(col)\n",
    "    print(train_csv[col].value_counts())"
   ]
  },
  {
   "cell_type": "code",
   "execution_count": null,
   "metadata": {
    "collapsed": true
   },
   "outputs": [],
   "source": []
  }
 ],
 "metadata": {
  "kernelspec": {
   "display_name": "Python 3",
   "language": "python",
   "name": "python3"
  },
  "language_info": {
   "codemirror_mode": {
    "name": "ipython",
    "version": 3
   },
   "file_extension": ".py",
   "mimetype": "text/x-python",
   "name": "python",
   "nbconvert_exporter": "python",
   "pygments_lexer": "ipython3",
   "version": "3.6.8"
  }
 },
 "nbformat": 4,
 "nbformat_minor": 2
}
